{
  "nbformat": 4,
  "nbformat_minor": 0,
  "metadata": {
    "colab": {
      "name": "Financial time series.ipynb",
      "provenance": [],
      "collapsed_sections": [],
      "toc_visible": true
    },
    "kernelspec": {
      "name": "python3",
      "display_name": "Python 3"
    }
  },
  "cells": [
    {
      "cell_type": "markdown",
      "metadata": {
        "id": "5_vqnV0pWH0I"
      },
      "source": [
        "### Problem statement."
      ]
    },
    {
      "cell_type": "markdown",
      "metadata": {
        "id": "o26iSdHIy_VM"
      },
      "source": [
        "Fitting a regression model on a financial time series.\n",
        "\n",
        "We will use TATA GLOBAL dataset from quandl\n"
      ]
    },
    {
      "cell_type": "code",
      "metadata": {
        "id": "ZylNPnP-ERpd"
      },
      "source": [
        "### import library\n",
        "import pandas as pd\n",
        "import matplotlib.pyplot as plt\n",
        "%matplotlib inline\n",
        "import numpy as np\n",
        "import seaborn as sns\n",
        "import warnings\n",
        "warnings.filterwarnings('ignore', '.*do not.*',)\n",
        "import warnings\n",
        "warnings.simplefilter(action='ignore', category=FutureWarning)"
      ],
      "execution_count": null,
      "outputs": []
    },
    {
      "cell_type": "markdown",
      "metadata": {
        "id": "yGu-rw_Jlfg2"
      },
      "source": [
        "### 1. Import data and understand the data"
      ]
    },
    {
      "cell_type": "code",
      "metadata": {
        "id": "aF6mSdaMFDCI",
        "colab": {
          "base_uri": "https://localhost:8080/",
          "height": 400
        },
        "outputId": "5688fca8-e41b-4170-9cef-57cf1c9bab9c"
      },
      "source": [
        "## import  dataset\n",
        "data=pd.read_csv('/content/NSE-TATAGLOBAL11.csv')"
      ],
      "execution_count": null,
      "outputs": [
        {
          "output_type": "error",
          "ename": "FileNotFoundError",
          "evalue": "ignored",
          "traceback": [
            "\u001b[0;31m---------------------------------------------------------------------------\u001b[0m",
            "\u001b[0;31mFileNotFoundError\u001b[0m                         Traceback (most recent call last)",
            "\u001b[0;32m<ipython-input-2-f78072836c98>\u001b[0m in \u001b[0;36m<module>\u001b[0;34m()\u001b[0m\n\u001b[1;32m      1\u001b[0m \u001b[0;31m## import  dataset\u001b[0m\u001b[0;34m\u001b[0m\u001b[0;34m\u001b[0m\u001b[0;34m\u001b[0m\u001b[0m\n\u001b[0;32m----> 2\u001b[0;31m \u001b[0mdata\u001b[0m\u001b[0;34m=\u001b[0m\u001b[0mpd\u001b[0m\u001b[0;34m.\u001b[0m\u001b[0mread_csv\u001b[0m\u001b[0;34m(\u001b[0m\u001b[0;34m'/content/NSE-TATAGLOBAL11.csv'\u001b[0m\u001b[0;34m)\u001b[0m\u001b[0;34m\u001b[0m\u001b[0;34m\u001b[0m\u001b[0m\n\u001b[0m",
            "\u001b[0;32m/usr/local/lib/python3.6/dist-packages/pandas/io/parsers.py\u001b[0m in \u001b[0;36mread_csv\u001b[0;34m(filepath_or_buffer, sep, delimiter, header, names, index_col, usecols, squeeze, prefix, mangle_dupe_cols, dtype, engine, converters, true_values, false_values, skipinitialspace, skiprows, skipfooter, nrows, na_values, keep_default_na, na_filter, verbose, skip_blank_lines, parse_dates, infer_datetime_format, keep_date_col, date_parser, dayfirst, cache_dates, iterator, chunksize, compression, thousands, decimal, lineterminator, quotechar, quoting, doublequote, escapechar, comment, encoding, dialect, error_bad_lines, warn_bad_lines, delim_whitespace, low_memory, memory_map, float_precision)\u001b[0m\n\u001b[1;32m    686\u001b[0m     )\n\u001b[1;32m    687\u001b[0m \u001b[0;34m\u001b[0m\u001b[0m\n\u001b[0;32m--> 688\u001b[0;31m     \u001b[0;32mreturn\u001b[0m \u001b[0m_read\u001b[0m\u001b[0;34m(\u001b[0m\u001b[0mfilepath_or_buffer\u001b[0m\u001b[0;34m,\u001b[0m \u001b[0mkwds\u001b[0m\u001b[0;34m)\u001b[0m\u001b[0;34m\u001b[0m\u001b[0;34m\u001b[0m\u001b[0m\n\u001b[0m\u001b[1;32m    689\u001b[0m \u001b[0;34m\u001b[0m\u001b[0m\n\u001b[1;32m    690\u001b[0m \u001b[0;34m\u001b[0m\u001b[0m\n",
            "\u001b[0;32m/usr/local/lib/python3.6/dist-packages/pandas/io/parsers.py\u001b[0m in \u001b[0;36m_read\u001b[0;34m(filepath_or_buffer, kwds)\u001b[0m\n\u001b[1;32m    452\u001b[0m \u001b[0;34m\u001b[0m\u001b[0m\n\u001b[1;32m    453\u001b[0m     \u001b[0;31m# Create the parser.\u001b[0m\u001b[0;34m\u001b[0m\u001b[0;34m\u001b[0m\u001b[0;34m\u001b[0m\u001b[0m\n\u001b[0;32m--> 454\u001b[0;31m     \u001b[0mparser\u001b[0m \u001b[0;34m=\u001b[0m \u001b[0mTextFileReader\u001b[0m\u001b[0;34m(\u001b[0m\u001b[0mfp_or_buf\u001b[0m\u001b[0;34m,\u001b[0m \u001b[0;34m**\u001b[0m\u001b[0mkwds\u001b[0m\u001b[0;34m)\u001b[0m\u001b[0;34m\u001b[0m\u001b[0;34m\u001b[0m\u001b[0m\n\u001b[0m\u001b[1;32m    455\u001b[0m \u001b[0;34m\u001b[0m\u001b[0m\n\u001b[1;32m    456\u001b[0m     \u001b[0;32mif\u001b[0m \u001b[0mchunksize\u001b[0m \u001b[0;32mor\u001b[0m \u001b[0miterator\u001b[0m\u001b[0;34m:\u001b[0m\u001b[0;34m\u001b[0m\u001b[0;34m\u001b[0m\u001b[0m\n",
            "\u001b[0;32m/usr/local/lib/python3.6/dist-packages/pandas/io/parsers.py\u001b[0m in \u001b[0;36m__init__\u001b[0;34m(self, f, engine, **kwds)\u001b[0m\n\u001b[1;32m    946\u001b[0m             \u001b[0mself\u001b[0m\u001b[0;34m.\u001b[0m\u001b[0moptions\u001b[0m\u001b[0;34m[\u001b[0m\u001b[0;34m\"has_index_names\"\u001b[0m\u001b[0;34m]\u001b[0m \u001b[0;34m=\u001b[0m \u001b[0mkwds\u001b[0m\u001b[0;34m[\u001b[0m\u001b[0;34m\"has_index_names\"\u001b[0m\u001b[0;34m]\u001b[0m\u001b[0;34m\u001b[0m\u001b[0;34m\u001b[0m\u001b[0m\n\u001b[1;32m    947\u001b[0m \u001b[0;34m\u001b[0m\u001b[0m\n\u001b[0;32m--> 948\u001b[0;31m         \u001b[0mself\u001b[0m\u001b[0;34m.\u001b[0m\u001b[0m_make_engine\u001b[0m\u001b[0;34m(\u001b[0m\u001b[0mself\u001b[0m\u001b[0;34m.\u001b[0m\u001b[0mengine\u001b[0m\u001b[0;34m)\u001b[0m\u001b[0;34m\u001b[0m\u001b[0;34m\u001b[0m\u001b[0m\n\u001b[0m\u001b[1;32m    949\u001b[0m \u001b[0;34m\u001b[0m\u001b[0m\n\u001b[1;32m    950\u001b[0m     \u001b[0;32mdef\u001b[0m \u001b[0mclose\u001b[0m\u001b[0;34m(\u001b[0m\u001b[0mself\u001b[0m\u001b[0;34m)\u001b[0m\u001b[0;34m:\u001b[0m\u001b[0;34m\u001b[0m\u001b[0;34m\u001b[0m\u001b[0m\n",
            "\u001b[0;32m/usr/local/lib/python3.6/dist-packages/pandas/io/parsers.py\u001b[0m in \u001b[0;36m_make_engine\u001b[0;34m(self, engine)\u001b[0m\n\u001b[1;32m   1178\u001b[0m     \u001b[0;32mdef\u001b[0m \u001b[0m_make_engine\u001b[0m\u001b[0;34m(\u001b[0m\u001b[0mself\u001b[0m\u001b[0;34m,\u001b[0m \u001b[0mengine\u001b[0m\u001b[0;34m=\u001b[0m\u001b[0;34m\"c\"\u001b[0m\u001b[0;34m)\u001b[0m\u001b[0;34m:\u001b[0m\u001b[0;34m\u001b[0m\u001b[0;34m\u001b[0m\u001b[0m\n\u001b[1;32m   1179\u001b[0m         \u001b[0;32mif\u001b[0m \u001b[0mengine\u001b[0m \u001b[0;34m==\u001b[0m \u001b[0;34m\"c\"\u001b[0m\u001b[0;34m:\u001b[0m\u001b[0;34m\u001b[0m\u001b[0;34m\u001b[0m\u001b[0m\n\u001b[0;32m-> 1180\u001b[0;31m             \u001b[0mself\u001b[0m\u001b[0;34m.\u001b[0m\u001b[0m_engine\u001b[0m \u001b[0;34m=\u001b[0m \u001b[0mCParserWrapper\u001b[0m\u001b[0;34m(\u001b[0m\u001b[0mself\u001b[0m\u001b[0;34m.\u001b[0m\u001b[0mf\u001b[0m\u001b[0;34m,\u001b[0m \u001b[0;34m**\u001b[0m\u001b[0mself\u001b[0m\u001b[0;34m.\u001b[0m\u001b[0moptions\u001b[0m\u001b[0;34m)\u001b[0m\u001b[0;34m\u001b[0m\u001b[0;34m\u001b[0m\u001b[0m\n\u001b[0m\u001b[1;32m   1181\u001b[0m         \u001b[0;32melse\u001b[0m\u001b[0;34m:\u001b[0m\u001b[0;34m\u001b[0m\u001b[0;34m\u001b[0m\u001b[0m\n\u001b[1;32m   1182\u001b[0m             \u001b[0;32mif\u001b[0m \u001b[0mengine\u001b[0m \u001b[0;34m==\u001b[0m \u001b[0;34m\"python\"\u001b[0m\u001b[0;34m:\u001b[0m\u001b[0;34m\u001b[0m\u001b[0;34m\u001b[0m\u001b[0m\n",
            "\u001b[0;32m/usr/local/lib/python3.6/dist-packages/pandas/io/parsers.py\u001b[0m in \u001b[0;36m__init__\u001b[0;34m(self, src, **kwds)\u001b[0m\n\u001b[1;32m   2008\u001b[0m         \u001b[0mkwds\u001b[0m\u001b[0;34m[\u001b[0m\u001b[0;34m\"usecols\"\u001b[0m\u001b[0;34m]\u001b[0m \u001b[0;34m=\u001b[0m \u001b[0mself\u001b[0m\u001b[0;34m.\u001b[0m\u001b[0musecols\u001b[0m\u001b[0;34m\u001b[0m\u001b[0;34m\u001b[0m\u001b[0m\n\u001b[1;32m   2009\u001b[0m \u001b[0;34m\u001b[0m\u001b[0m\n\u001b[0;32m-> 2010\u001b[0;31m         \u001b[0mself\u001b[0m\u001b[0;34m.\u001b[0m\u001b[0m_reader\u001b[0m \u001b[0;34m=\u001b[0m \u001b[0mparsers\u001b[0m\u001b[0;34m.\u001b[0m\u001b[0mTextReader\u001b[0m\u001b[0;34m(\u001b[0m\u001b[0msrc\u001b[0m\u001b[0;34m,\u001b[0m \u001b[0;34m**\u001b[0m\u001b[0mkwds\u001b[0m\u001b[0;34m)\u001b[0m\u001b[0;34m\u001b[0m\u001b[0;34m\u001b[0m\u001b[0m\n\u001b[0m\u001b[1;32m   2011\u001b[0m         \u001b[0mself\u001b[0m\u001b[0;34m.\u001b[0m\u001b[0munnamed_cols\u001b[0m \u001b[0;34m=\u001b[0m \u001b[0mself\u001b[0m\u001b[0;34m.\u001b[0m\u001b[0m_reader\u001b[0m\u001b[0;34m.\u001b[0m\u001b[0munnamed_cols\u001b[0m\u001b[0;34m\u001b[0m\u001b[0;34m\u001b[0m\u001b[0m\n\u001b[1;32m   2012\u001b[0m \u001b[0;34m\u001b[0m\u001b[0m\n",
            "\u001b[0;32mpandas/_libs/parsers.pyx\u001b[0m in \u001b[0;36mpandas._libs.parsers.TextReader.__cinit__\u001b[0;34m()\u001b[0m\n",
            "\u001b[0;32mpandas/_libs/parsers.pyx\u001b[0m in \u001b[0;36mpandas._libs.parsers.TextReader._setup_parser_source\u001b[0;34m()\u001b[0m\n",
            "\u001b[0;31mFileNotFoundError\u001b[0m: [Errno 2] No such file or directory: '/content/NSE-TATAGLOBAL11.csv'"
          ]
        }
      ]
    },
    {
      "cell_type": "code",
      "metadata": {
        "id": "2g8v9cXTRimD",
        "colab": {
          "base_uri": "https://localhost:8080/",
          "height": 197
        },
        "outputId": "550cb6b9-1235-4db9-9adf-0eade57f37ed"
      },
      "source": [
        "### checking on the data\n",
        "data.head()"
      ],
      "execution_count": null,
      "outputs": [
        {
          "output_type": "execute_result",
          "data": {
            "text/html": [
              "<div>\n",
              "<style scoped>\n",
              "    .dataframe tbody tr th:only-of-type {\n",
              "        vertical-align: middle;\n",
              "    }\n",
              "\n",
              "    .dataframe tbody tr th {\n",
              "        vertical-align: top;\n",
              "    }\n",
              "\n",
              "    .dataframe thead th {\n",
              "        text-align: right;\n",
              "    }\n",
              "</style>\n",
              "<table border=\"1\" class=\"dataframe\">\n",
              "  <thead>\n",
              "    <tr style=\"text-align: right;\">\n",
              "      <th></th>\n",
              "      <th>Date</th>\n",
              "      <th>Open</th>\n",
              "      <th>High</th>\n",
              "      <th>Low</th>\n",
              "      <th>Last</th>\n",
              "      <th>Close</th>\n",
              "      <th>Total Trade Quantity</th>\n",
              "      <th>Turnover (Lacs)</th>\n",
              "    </tr>\n",
              "  </thead>\n",
              "  <tbody>\n",
              "    <tr>\n",
              "      <th>0</th>\n",
              "      <td>2018-10-08</td>\n",
              "      <td>208.00</td>\n",
              "      <td>222.25</td>\n",
              "      <td>206.85</td>\n",
              "      <td>216.00</td>\n",
              "      <td>215.15</td>\n",
              "      <td>4642146.0</td>\n",
              "      <td>10062.83</td>\n",
              "    </tr>\n",
              "    <tr>\n",
              "      <th>1</th>\n",
              "      <td>2018-10-05</td>\n",
              "      <td>217.00</td>\n",
              "      <td>218.60</td>\n",
              "      <td>205.90</td>\n",
              "      <td>210.25</td>\n",
              "      <td>209.20</td>\n",
              "      <td>3519515.0</td>\n",
              "      <td>7407.06</td>\n",
              "    </tr>\n",
              "    <tr>\n",
              "      <th>2</th>\n",
              "      <td>2018-10-04</td>\n",
              "      <td>223.50</td>\n",
              "      <td>227.80</td>\n",
              "      <td>216.15</td>\n",
              "      <td>217.25</td>\n",
              "      <td>218.20</td>\n",
              "      <td>1728786.0</td>\n",
              "      <td>3815.79</td>\n",
              "    </tr>\n",
              "    <tr>\n",
              "      <th>3</th>\n",
              "      <td>2018-10-03</td>\n",
              "      <td>230.00</td>\n",
              "      <td>237.50</td>\n",
              "      <td>225.75</td>\n",
              "      <td>226.45</td>\n",
              "      <td>227.60</td>\n",
              "      <td>1708590.0</td>\n",
              "      <td>3960.27</td>\n",
              "    </tr>\n",
              "    <tr>\n",
              "      <th>4</th>\n",
              "      <td>2018-10-01</td>\n",
              "      <td>234.55</td>\n",
              "      <td>234.60</td>\n",
              "      <td>221.05</td>\n",
              "      <td>230.30</td>\n",
              "      <td>230.90</td>\n",
              "      <td>1534749.0</td>\n",
              "      <td>3486.05</td>\n",
              "    </tr>\n",
              "  </tbody>\n",
              "</table>\n",
              "</div>"
            ],
            "text/plain": [
              "         Date    Open    High  ...   Close  Total Trade Quantity  Turnover (Lacs)\n",
              "0  2018-10-08  208.00  222.25  ...  215.15             4642146.0         10062.83\n",
              "1  2018-10-05  217.00  218.60  ...  209.20             3519515.0          7407.06\n",
              "2  2018-10-04  223.50  227.80  ...  218.20             1728786.0          3815.79\n",
              "3  2018-10-03  230.00  237.50  ...  227.60             1708590.0          3960.27\n",
              "4  2018-10-01  234.55  234.60  ...  230.90             1534749.0          3486.05\n",
              "\n",
              "[5 rows x 8 columns]"
            ]
          },
          "metadata": {
            "tags": []
          },
          "execution_count": 3
        }
      ]
    },
    {
      "cell_type": "code",
      "metadata": {
        "id": "8iPiHCdylxBN",
        "colab": {
          "base_uri": "https://localhost:8080/"
        },
        "outputId": "67e4d56c-b3d4-4eb4-9a8f-f9269817ed2c"
      },
      "source": [
        "### the shape of the data\n",
        "data.shape"
      ],
      "execution_count": null,
      "outputs": [
        {
          "output_type": "execute_result",
          "data": {
            "text/plain": [
              "(1235, 8)"
            ]
          },
          "metadata": {
            "tags": []
          },
          "execution_count": 4
        }
      ]
    },
    {
      "cell_type": "code",
      "metadata": {
        "id": "RcKTB40_l8kE",
        "colab": {
          "base_uri": "https://localhost:8080/"
        },
        "outputId": "9f78cc54-dc71-4e1f-8add-5c6325ec64cd"
      },
      "source": [
        "# the type of data\n",
        "data.info()"
      ],
      "execution_count": null,
      "outputs": [
        {
          "output_type": "stream",
          "text": [
            "<class 'pandas.core.frame.DataFrame'>\n",
            "RangeIndex: 1235 entries, 0 to 1234\n",
            "Data columns (total 8 columns):\n",
            " #   Column                Non-Null Count  Dtype  \n",
            "---  ------                --------------  -----  \n",
            " 0   Date                  1235 non-null   object \n",
            " 1   Open                  1235 non-null   float64\n",
            " 2   High                  1235 non-null   float64\n",
            " 3   Low                   1235 non-null   float64\n",
            " 4   Last                  1235 non-null   float64\n",
            " 5   Close                 1235 non-null   float64\n",
            " 6   Total Trade Quantity  1235 non-null   float64\n",
            " 7   Turnover (Lacs)       1235 non-null   float64\n",
            "dtypes: float64(7), object(1)\n",
            "memory usage: 77.3+ KB\n"
          ],
          "name": "stdout"
        }
      ]
    },
    {
      "cell_type": "markdown",
      "metadata": {
        "id": "hWu-4fb_mOPw"
      },
      "source": [
        "We can notice  that the date column\n",
        "is an object we will convert that it to date type."
      ]
    },
    {
      "cell_type": "markdown",
      "metadata": {
        "id": "OF9MAE2qnbAB"
      },
      "source": [
        "### 2. Data cleaning and manipulation"
      ]
    },
    {
      "cell_type": "code",
      "metadata": {
        "id": "nKZcU38VnVhh",
        "colab": {
          "base_uri": "https://localhost:8080/"
        },
        "outputId": "e0f2059e-05bf-485e-83a4-4eb9c0e156a6"
      },
      "source": [
        "### converting the date from object to date and setting as index\n",
        "data.Date=pd.to_datetime(data.Date,format='%Y-%m-%d')\n",
        "data.index=data.Date\n",
        "data.info()"
      ],
      "execution_count": null,
      "outputs": [
        {
          "output_type": "stream",
          "text": [
            "<class 'pandas.core.frame.DataFrame'>\n",
            "DatetimeIndex: 1235 entries, 2018-10-08 to 2013-10-08\n",
            "Data columns (total 8 columns):\n",
            " #   Column                Non-Null Count  Dtype         \n",
            "---  ------                --------------  -----         \n",
            " 0   Date                  1235 non-null   datetime64[ns]\n",
            " 1   Open                  1235 non-null   float64       \n",
            " 2   High                  1235 non-null   float64       \n",
            " 3   Low                   1235 non-null   float64       \n",
            " 4   Last                  1235 non-null   float64       \n",
            " 5   Close                 1235 non-null   float64       \n",
            " 6   Total Trade Quantity  1235 non-null   float64       \n",
            " 7   Turnover (Lacs)       1235 non-null   float64       \n",
            "dtypes: datetime64[ns](1), float64(7)\n",
            "memory usage: 86.8 KB\n"
          ],
          "name": "stdout"
        }
      ]
    },
    {
      "cell_type": "code",
      "metadata": {
        "id": "IHkop9VHouGI",
        "colab": {
          "base_uri": "https://localhost:8080/"
        },
        "outputId": "dfa9b019-6c75-4965-8c70-78006d2a7ac7"
      },
      "source": [
        "### looking for missing values\n",
        "data.isnull().sum()"
      ],
      "execution_count": null,
      "outputs": [
        {
          "output_type": "execute_result",
          "data": {
            "text/plain": [
              "Date                    0\n",
              "Open                    0\n",
              "High                    0\n",
              "Low                     0\n",
              "Last                    0\n",
              "Close                   0\n",
              "Total Trade Quantity    0\n",
              "Turnover (Lacs)         0\n",
              "dtype: int64"
            ]
          },
          "metadata": {
            "tags": []
          },
          "execution_count": 7
        }
      ]
    },
    {
      "cell_type": "code",
      "metadata": {
        "id": "Fhq6qLsFo9ku",
        "colab": {
          "base_uri": "https://localhost:8080/"
        },
        "outputId": "9d8472b2-6595-452e-8252-cd3f40628f6b"
      },
      "source": [
        "### looking for duplicated values\n",
        "data.duplicated().any()"
      ],
      "execution_count": null,
      "outputs": [
        {
          "output_type": "execute_result",
          "data": {
            "text/plain": [
              "False"
            ]
          },
          "metadata": {
            "tags": []
          },
          "execution_count": 8
        }
      ]
    },
    {
      "cell_type": "code",
      "metadata": {
        "id": "Pm26O2kcarSt"
      },
      "source": [
        "#### sorting the index\n",
        "data.sort_index(ascending=True,axis=0,inplace=True)"
      ],
      "execution_count": null,
      "outputs": []
    },
    {
      "cell_type": "markdown",
      "metadata": {
        "id": "wQdgCtn20vkT"
      },
      "source": [
        "### 3. Exploratory data analysis"
      ]
    },
    {
      "cell_type": "code",
      "metadata": {
        "id": "40lmr3nP7wfg",
        "colab": {
          "base_uri": "https://localhost:8080/",
          "height": 287
        },
        "outputId": "25013917-2793-43c7-cd61-c40d7aeeeda8"
      },
      "source": [
        "### statistical summary\n",
        "data.describe()"
      ],
      "execution_count": null,
      "outputs": [
        {
          "output_type": "execute_result",
          "data": {
            "text/html": [
              "<div>\n",
              "<style scoped>\n",
              "    .dataframe tbody tr th:only-of-type {\n",
              "        vertical-align: middle;\n",
              "    }\n",
              "\n",
              "    .dataframe tbody tr th {\n",
              "        vertical-align: top;\n",
              "    }\n",
              "\n",
              "    .dataframe thead th {\n",
              "        text-align: right;\n",
              "    }\n",
              "</style>\n",
              "<table border=\"1\" class=\"dataframe\">\n",
              "  <thead>\n",
              "    <tr style=\"text-align: right;\">\n",
              "      <th></th>\n",
              "      <th>Open</th>\n",
              "      <th>High</th>\n",
              "      <th>Low</th>\n",
              "      <th>Last</th>\n",
              "      <th>Close</th>\n",
              "      <th>Total Trade Quantity</th>\n",
              "      <th>Turnover (Lacs)</th>\n",
              "    </tr>\n",
              "  </thead>\n",
              "  <tbody>\n",
              "    <tr>\n",
              "      <th>count</th>\n",
              "      <td>1235.000000</td>\n",
              "      <td>1235.000000</td>\n",
              "      <td>1235.000000</td>\n",
              "      <td>1235.000000</td>\n",
              "      <td>1235.000000</td>\n",
              "      <td>1.235000e+03</td>\n",
              "      <td>1235.000000</td>\n",
              "    </tr>\n",
              "    <tr>\n",
              "      <th>mean</th>\n",
              "      <td>168.954858</td>\n",
              "      <td>171.429069</td>\n",
              "      <td>166.402308</td>\n",
              "      <td>168.736356</td>\n",
              "      <td>168.731053</td>\n",
              "      <td>2.604151e+06</td>\n",
              "      <td>4843.166502</td>\n",
              "    </tr>\n",
              "    <tr>\n",
              "      <th>std</th>\n",
              "      <td>51.499145</td>\n",
              "      <td>52.436761</td>\n",
              "      <td>50.542919</td>\n",
              "      <td>51.587384</td>\n",
              "      <td>51.544928</td>\n",
              "      <td>2.277028e+06</td>\n",
              "      <td>5348.919832</td>\n",
              "    </tr>\n",
              "    <tr>\n",
              "      <th>min</th>\n",
              "      <td>103.000000</td>\n",
              "      <td>104.600000</td>\n",
              "      <td>100.000000</td>\n",
              "      <td>102.600000</td>\n",
              "      <td>102.650000</td>\n",
              "      <td>1.001800e+05</td>\n",
              "      <td>128.040000</td>\n",
              "    </tr>\n",
              "    <tr>\n",
              "      <th>25%</th>\n",
              "      <td>137.550000</td>\n",
              "      <td>138.925000</td>\n",
              "      <td>135.250000</td>\n",
              "      <td>137.175000</td>\n",
              "      <td>137.225000</td>\n",
              "      <td>1.284482e+06</td>\n",
              "      <td>1801.035000</td>\n",
              "    </tr>\n",
              "    <tr>\n",
              "      <th>50%</th>\n",
              "      <td>151.500000</td>\n",
              "      <td>153.250000</td>\n",
              "      <td>149.500000</td>\n",
              "      <td>151.200000</td>\n",
              "      <td>151.100000</td>\n",
              "      <td>1.964885e+06</td>\n",
              "      <td>3068.510000</td>\n",
              "    </tr>\n",
              "    <tr>\n",
              "      <th>75%</th>\n",
              "      <td>169.000000</td>\n",
              "      <td>172.325000</td>\n",
              "      <td>166.700000</td>\n",
              "      <td>169.100000</td>\n",
              "      <td>169.500000</td>\n",
              "      <td>3.095788e+06</td>\n",
              "      <td>5852.600000</td>\n",
              "    </tr>\n",
              "    <tr>\n",
              "      <th>max</th>\n",
              "      <td>327.700000</td>\n",
              "      <td>328.750000</td>\n",
              "      <td>321.650000</td>\n",
              "      <td>325.950000</td>\n",
              "      <td>325.750000</td>\n",
              "      <td>2.919102e+07</td>\n",
              "      <td>55755.080000</td>\n",
              "    </tr>\n",
              "  </tbody>\n",
              "</table>\n",
              "</div>"
            ],
            "text/plain": [
              "              Open         High  ...  Total Trade Quantity  Turnover (Lacs)\n",
              "count  1235.000000  1235.000000  ...          1.235000e+03      1235.000000\n",
              "mean    168.954858   171.429069  ...          2.604151e+06      4843.166502\n",
              "std      51.499145    52.436761  ...          2.277028e+06      5348.919832\n",
              "min     103.000000   104.600000  ...          1.001800e+05       128.040000\n",
              "25%     137.550000   138.925000  ...          1.284482e+06      1801.035000\n",
              "50%     151.500000   153.250000  ...          1.964885e+06      3068.510000\n",
              "75%     169.000000   172.325000  ...          3.095788e+06      5852.600000\n",
              "max     327.700000   328.750000  ...          2.919102e+07     55755.080000\n",
              "\n",
              "[8 rows x 7 columns]"
            ]
          },
          "metadata": {
            "tags": []
          },
          "execution_count": 10
        }
      ]
    },
    {
      "cell_type": "code",
      "metadata": {
        "id": "W2igfdHk03Y5",
        "colab": {
          "base_uri": "https://localhost:8080/",
          "height": 403
        },
        "outputId": "5d5a8a48-2372-42c4-f763-00751d234872"
      },
      "source": [
        "### taking a look at the closing price of the stock\n",
        "plt.figure(figsize=(20,6))\n",
        "plt.title('closing price history')\n",
        "plt.xlabel('years')\n",
        "plt.ylabel('closing price')\n",
        "plt.plot(data[['Close']],label='closing price history',color='olive')\n",
        "plt.show()"
      ],
      "execution_count": null,
      "outputs": [
        {
          "output_type": "display_data",
          "data": {
            "image/png": "[encoded data removed]",
            "text/plain": [
              "<Figure size 1440x432 with 1 Axes>"
            ]
          },
          "metadata": {
            "tags": [],
            "needs_background": "light"
          }
        }
      ]
    },
    {
      "cell_type": "markdown",
      "metadata": {
        "id": "7eYPuYtX3Q6a"
      },
      "source": [
        "The closing price was highest in  2018 and lowest in 2016"
      ]
    },
    {
      "cell_type": "code",
      "metadata": {
        "id": "f_KxSoD03j2w",
        "colab": {
          "base_uri": "https://localhost:8080/",
          "height": 403
        },
        "outputId": "ac04c5ec-ab4f-46c7-f11b-26d8710246d5"
      },
      "source": [
        "##### taking a look at the opening price of the stock\n",
        "plt.figure(figsize=(20,6))\n",
        "plt.title('opening price history')\n",
        "plt.xlabel('years')\n",
        "plt.ylabel('opening price')\n",
        "plt.plot(data['Open'],color='red')\n",
        "plt.show()"
      ],
      "execution_count": null,
      "outputs": [
        {
          "output_type": "display_data",
          "data": {
            "image/png": "[encoded data removed]",
            "text/plain": [
              "<Figure size 1440x432 with 1 Axes>"
            ]
          },
          "metadata": {
            "tags": [],
            "needs_background": "light"
          }
        }
      ]
    },
    {
      "cell_type": "code",
      "metadata": {
        "id": "_mRRfbWH5hq3",
        "colab": {
          "base_uri": "https://localhost:8080/",
          "height": 404
        },
        "outputId": "5cfb0cc7-6b07-42c9-f93d-5daa4fa7d83c"
      },
      "source": [
        "##### volume of shares traded\n",
        "plt.figure(figsize=(20,6))\n",
        "plt.title('volume of stocks sold')\n",
        "plt.xlabel('years')\n",
        "plt.ylabel('Total Trade Quantity')\n",
        "plt.plot(data['Total Trade Quantity'],color='green')\n",
        "plt.show()"
      ],
      "execution_count": null,
      "outputs": [
        {
          "output_type": "display_data",
          "data": {
            "image/png": "[encoded data removed]",
            "text/plain": [
              "<Figure size 1440x432 with 1 Axes>"
            ]
          },
          "metadata": {
            "tags": [],
            "needs_background": "light"
          }
        }
      ]
    },
    {
      "cell_type": "code",
      "metadata": {
        "id": "SbtmnlUI7Dnc",
        "colab": {
          "base_uri": "https://localhost:8080/"
        },
        "outputId": "9aaa3ae6-2c05-4d6c-ec78-46c793be1a58"
      },
      "source": [
        "### percentage change\n",
        "change_closing=data['Close'].pct_change()\n",
        "change_closing.head().dropna()"
      ],
      "execution_count": null,
      "outputs": [
        {
          "output_type": "execute_result",
          "data": {
            "text/plain": [
              "Date\n",
              "2013-10-09   -0.001605\n",
              "2013-10-10    0.029572\n",
              "2013-10-11   -0.000624\n",
              "2013-10-14   -0.003749\n",
              "Name: Close, dtype: float64"
            ]
          },
          "metadata": {
            "tags": []
          },
          "execution_count": 17
        }
      ]
    },
    {
      "cell_type": "code",
      "metadata": {
        "id": "9f4OuQbR9Er6"
      },
      "source": [
        "### reshaping the data into 1 week\n",
        "def resample(distance, label = 'right'):\n",
        "    \n",
        "    resample = data['Close'].resample(distance, label = label).last().dropna()\n",
        "    return resample"
      ],
      "execution_count": null,
      "outputs": []
    },
    {
      "cell_type": "code",
      "metadata": {
        "id": "ObG__wRd9UPQ",
        "colab": {
          "base_uri": "https://localhost:8080/"
        },
        "outputId": "3c4386ff-7d8b-495e-8281-5704cf54f20c"
      },
      "source": [
        "### viewing the data in 1 week\n",
        "df_1week = resample('1w') \n",
        "df_1week.head(20)"
      ],
      "execution_count": null,
      "outputs": [
        {
          "output_type": "execute_result",
          "data": {
            "text/plain": [
              "Date\n",
              "2013-10-13    160.05\n",
              "2013-10-20    164.20\n",
              "2013-10-27    163.85\n",
              "2013-11-03    169.50\n",
              "2013-11-10    160.10\n",
              "2013-11-17    143.95\n",
              "2013-11-24    141.80\n",
              "2013-12-01    148.90\n",
              "2013-12-08    146.20\n",
              "2013-12-15    145.15\n",
              "2013-12-22    153.10\n",
              "2013-12-29    158.05\n",
              "2014-01-05    156.35\n",
              "2014-01-12    155.95\n",
              "2014-01-19    146.20\n",
              "2014-01-26    144.25\n",
              "2014-02-02    141.00\n",
              "2014-02-09    143.35\n",
              "2014-02-16    140.55\n",
              "2014-02-23    142.00\n",
              "Freq: W-SUN, Name: Close, dtype: float64"
            ]
          },
          "metadata": {
            "tags": []
          },
          "execution_count": 18
        }
      ]
    },
    {
      "cell_type": "markdown",
      "metadata": {
        "id": "7QMMwu1S_CQU"
      },
      "source": [
        "### 4. Moving averages "
      ]
    },
    {
      "cell_type": "code",
      "metadata": {
        "id": "CFs3bb2y_BtP",
        "colab": {
          "base_uri": "https://localhost:8080/"
        },
        "outputId": "b59cafac-a0bb-450b-88ba-d8c044fcbbed"
      },
      "source": [
        "#creating dataframe with date and the target variable\n",
        "new_data = pd.DataFrame(index=range(0,len(data)),columns=['Date', 'Close'])\n",
        "for i in range(0,len(data)):\n",
        "     new_data['Date'][i] = data['Date'][i]\n",
        "     new_data['Close'][i] = data['Close'][i]\n",
        "\n",
        "# While splitting the data into train and validation set, \n",
        "# splitting into train and validation\n",
        "train = new_data[:987]\n",
        "valid = new_data[987:]\n",
        "\n",
        "# shapes of training set\n",
        "print('\\n Shape of training set:')\n",
        "print(train.shape)\n",
        "\n",
        "# shapes of validation set\n",
        "print('\\n Shape of validation set:')\n",
        "print(valid.shape)\n",
        "\n",
        "#creating predictions for the validation set and check the RMSE using the actual values.\n",
        "# making predictions\n",
        "preds = []\n",
        "for i in range(0,valid.shape[0]):\n",
        "  a = train['Close'][len(train)-248+i:].sum() + sum(preds)\n",
        "  b = a/248\n",
        "  preds.append(b)\n",
        "\n",
        "# checking the results (RMSE value)\n",
        "rms=np.sqrt(np.mean(np.power((np.array(valid['Close'])-preds),2)))\n",
        "print('\\n RMSE value on validation set:')\n",
        "print(rms)"
      ],
      "execution_count": null,
      "outputs": [
        {
          "output_type": "stream",
          "text": [
            "\n",
            " Shape of training set:\n",
            "(987, 2)\n",
            "\n",
            " Shape of validation set:\n",
            "(248, 2)\n",
            "\n",
            " RMSE value on validation set:\n",
            "104.51415465984348\n"
          ],
          "name": "stdout"
        }
      ]
    },
    {
      "cell_type": "code",
      "metadata": {
        "id": "WjFV0JMRCeSc",
        "colab": {
          "base_uri": "https://localhost:8080/",
          "height": 498
        },
        "outputId": "03c179b2-150a-44f7-a8ee-4970f05c85a8"
      },
      "source": [
        "#plot the prediction and actual.\n",
        "valid['Predictions'] = 0\n",
        "valid['Predictions'] = preds\n",
        "plt.plot(train['Close'])\n",
        "plt.plot(valid[['Close', 'Predictions']])"
      ],
      "execution_count": null,
      "outputs": [
        {
          "output_type": "stream",
          "text": [
            "/usr/local/lib/python3.6/dist-packages/ipykernel_launcher.py:2: SettingWithCopyWarning: \n",
            "A value is trying to be set on a copy of a slice from a DataFrame.\n",
            "Try using .loc[row_indexer,col_indexer] = value instead\n",
            "\n",
            "See the caveats in the documentation: https://pandas.pydata.org/pandas-docs/stable/user_guide/indexing.html#returning-a-view-versus-a-copy\n",
            "  \n",
            "/usr/local/lib/python3.6/dist-packages/ipykernel_launcher.py:3: SettingWithCopyWarning: \n",
            "A value is trying to be set on a copy of a slice from a DataFrame.\n",
            "Try using .loc[row_indexer,col_indexer] = value instead\n",
            "\n",
            "See the caveats in the documentation: https://pandas.pydata.org/pandas-docs/stable/user_guide/indexing.html#returning-a-view-versus-a-copy\n",
            "  This is separate from the ipykernel package so we can avoid doing imports until\n"
          ],
          "name": "stderr"
        },
        {
          "output_type": "execute_result",
          "data": {
            "text/plain": [
              "[<matplotlib.lines.Line2D at 0x7f2c5a704dd8>,\n",
              " <matplotlib.lines.Line2D at 0x7f2c5a704f28>]"
            ]
          },
          "metadata": {
            "tags": []
          },
          "execution_count": 21
        },
        {
          "output_type": "display_data",
          "data": {
            "image/png": "[encoded data removed]",
            "text/plain": [
              "<Figure size 432x288 with 1 Axes>"
            ]
          },
          "metadata": {
            "tags": [],
            "needs_background": "light"
          }
        }
      ]
    },
    {
      "cell_type": "markdown",
      "metadata": {
        "id": "UJ81YoaCCJSs"
      },
      "source": [
        "The RMSE value is close to 105 but the results are not very promising. The predicted values are of the same range as the observed values in the train set (there is an increasing trend initially and then a slow decrease)"
      ]
    },
    {
      "cell_type": "markdown",
      "metadata": {
        "id": "XtFlk5_Kcp0D"
      },
      "source": [
        "### 5. Linear Regression"
      ]
    },
    {
      "cell_type": "code",
      "metadata": {
        "id": "_jU9Zyn3eZt7",
        "colab": {
          "base_uri": "https://localhost:8080/",
          "height": 227
        },
        "outputId": "81ece4ff-7043-46b0-94f9-d3fd444defa2"
      },
      "source": [
        "# we create more features.\n",
        "## there a high likelihood that the closing price of a share is adversely\n",
        "#affected by time either week day, weekend , month\n",
        "for attr in ['year', 'month', 'day', 'week', 'dayofweek']:\n",
        "  data[attr] = getattr(data['Date'].dt, attr)\n",
        "data.head()"
      ],
      "execution_count": null,
      "outputs": [
        {
          "output_type": "execute_result",
          "data": {
            "text/html": [
              "<div>\n",
              "<style scoped>\n",
              "    .dataframe tbody tr th:only-of-type {\n",
              "        vertical-align: middle;\n",
              "    }\n",
              "\n",
              "    .dataframe tbody tr th {\n",
              "        vertical-align: top;\n",
              "    }\n",
              "\n",
              "    .dataframe thead th {\n",
              "        text-align: right;\n",
              "    }\n",
              "</style>\n",
              "<table border=\"1\" class=\"dataframe\">\n",
              "  <thead>\n",
              "    <tr style=\"text-align: right;\">\n",
              "      <th></th>\n",
              "      <th>Date</th>\n",
              "      <th>Open</th>\n",
              "      <th>High</th>\n",
              "      <th>Low</th>\n",
              "      <th>Last</th>\n",
              "      <th>Close</th>\n",
              "      <th>Total Trade Quantity</th>\n",
              "      <th>Turnover (Lacs)</th>\n",
              "      <th>year</th>\n",
              "      <th>month</th>\n",
              "      <th>day</th>\n",
              "      <th>week</th>\n",
              "      <th>dayofweek</th>\n",
              "    </tr>\n",
              "    <tr>\n",
              "      <th>Date</th>\n",
              "      <th></th>\n",
              "      <th></th>\n",
              "      <th></th>\n",
              "      <th></th>\n",
              "      <th></th>\n",
              "      <th></th>\n",
              "      <th></th>\n",
              "      <th></th>\n",
              "      <th></th>\n",
              "      <th></th>\n",
              "      <th></th>\n",
              "      <th></th>\n",
              "      <th></th>\n",
              "    </tr>\n",
              "  </thead>\n",
              "  <tbody>\n",
              "    <tr>\n",
              "      <th>2013-10-08</th>\n",
              "      <td>2013-10-08</td>\n",
              "      <td>157.00</td>\n",
              "      <td>157.80</td>\n",
              "      <td>155.20</td>\n",
              "      <td>155.8</td>\n",
              "      <td>155.80</td>\n",
              "      <td>1720413.0</td>\n",
              "      <td>2688.94</td>\n",
              "      <td>2013</td>\n",
              "      <td>10</td>\n",
              "      <td>8</td>\n",
              "      <td>41</td>\n",
              "      <td>1</td>\n",
              "    </tr>\n",
              "    <tr>\n",
              "      <th>2013-10-09</th>\n",
              "      <td>2013-10-09</td>\n",
              "      <td>155.70</td>\n",
              "      <td>158.20</td>\n",
              "      <td>154.15</td>\n",
              "      <td>155.3</td>\n",
              "      <td>155.55</td>\n",
              "      <td>2049580.0</td>\n",
              "      <td>3204.49</td>\n",
              "      <td>2013</td>\n",
              "      <td>10</td>\n",
              "      <td>9</td>\n",
              "      <td>41</td>\n",
              "      <td>2</td>\n",
              "    </tr>\n",
              "    <tr>\n",
              "      <th>2013-10-10</th>\n",
              "      <td>2013-10-10</td>\n",
              "      <td>156.00</td>\n",
              "      <td>160.80</td>\n",
              "      <td>155.85</td>\n",
              "      <td>160.3</td>\n",
              "      <td>160.15</td>\n",
              "      <td>3124853.0</td>\n",
              "      <td>4978.80</td>\n",
              "      <td>2013</td>\n",
              "      <td>10</td>\n",
              "      <td>10</td>\n",
              "      <td>41</td>\n",
              "      <td>3</td>\n",
              "    </tr>\n",
              "    <tr>\n",
              "      <th>2013-10-11</th>\n",
              "      <td>2013-10-11</td>\n",
              "      <td>161.15</td>\n",
              "      <td>163.45</td>\n",
              "      <td>159.00</td>\n",
              "      <td>159.8</td>\n",
              "      <td>160.05</td>\n",
              "      <td>1880046.0</td>\n",
              "      <td>3030.76</td>\n",
              "      <td>2013</td>\n",
              "      <td>10</td>\n",
              "      <td>11</td>\n",
              "      <td>41</td>\n",
              "      <td>4</td>\n",
              "    </tr>\n",
              "    <tr>\n",
              "      <th>2013-10-14</th>\n",
              "      <td>2013-10-14</td>\n",
              "      <td>160.85</td>\n",
              "      <td>161.45</td>\n",
              "      <td>157.70</td>\n",
              "      <td>159.3</td>\n",
              "      <td>159.45</td>\n",
              "      <td>1281419.0</td>\n",
              "      <td>2039.09</td>\n",
              "      <td>2013</td>\n",
              "      <td>10</td>\n",
              "      <td>14</td>\n",
              "      <td>42</td>\n",
              "      <td>0</td>\n",
              "    </tr>\n",
              "  </tbody>\n",
              "</table>\n",
              "</div>"
            ],
            "text/plain": [
              "                 Date    Open    High     Low  ...  month  day  week  dayofweek\n",
              "Date                                           ...                             \n",
              "2013-10-08 2013-10-08  157.00  157.80  155.20  ...     10    8    41          1\n",
              "2013-10-09 2013-10-09  155.70  158.20  154.15  ...     10    9    41          2\n",
              "2013-10-10 2013-10-10  156.00  160.80  155.85  ...     10   10    41          3\n",
              "2013-10-11 2013-10-11  161.15  163.45  159.00  ...     10   11    41          4\n",
              "2013-10-14 2013-10-14  160.85  161.45  157.70  ...     10   14    42          0\n",
              "\n",
              "[5 rows x 13 columns]"
            ]
          },
          "metadata": {
            "tags": []
          },
          "execution_count": 24
        }
      ]
    },
    {
      "cell_type": "code",
      "metadata": {
        "id": "XfHDLZ2FmSpX"
      },
      "source": [
        "## the  features we will use\n",
        "features=['year','month','day','week','dayofweek']\n",
        "new_data=data[['Close','year','month','day','week','dayofweek']]"
      ],
      "execution_count": null,
      "outputs": []
    },
    {
      "cell_type": "code",
      "metadata": {
        "id": "O7at6laypKKm"
      },
      "source": [
        "# identify if the day is a weekend or week day.. \n",
        "new_data['mon_fri'] = 0\n",
        "for i in range(0,len(new_data)):\n",
        "    if (new_data['dayofweek'][i] == 0 or new_data['dayofweek'][i] == 4):\n",
        "        new_data['mon_fri'][i] = 1\n",
        "    else:\n",
        "        new_data['mon_fri'][i] = 0\n"
      ],
      "execution_count": null,
      "outputs": []
    },
    {
      "cell_type": "code",
      "metadata": {
        "id": "uwVGpIxoxdLD",
        "colab": {
          "base_uri": "https://localhost:8080/",
          "height": 227
        },
        "outputId": "ab7ae84f-a230-4ae5-e361-a1f097fe88e8"
      },
      "source": [
        "## our new dataset\n",
        "new_data.head()"
      ],
      "execution_count": null,
      "outputs": [
        {
          "output_type": "execute_result",
          "data": {
            "text/html": [
              "<div>\n",
              "<style scoped>\n",
              "    .dataframe tbody tr th:only-of-type {\n",
              "        vertical-align: middle;\n",
              "    }\n",
              "\n",
              "    .dataframe tbody tr th {\n",
              "        vertical-align: top;\n",
              "    }\n",
              "\n",
              "    .dataframe thead th {\n",
              "        text-align: right;\n",
              "    }\n",
              "</style>\n",
              "<table border=\"1\" class=\"dataframe\">\n",
              "  <thead>\n",
              "    <tr style=\"text-align: right;\">\n",
              "      <th></th>\n",
              "      <th>Close</th>\n",
              "      <th>year</th>\n",
              "      <th>month</th>\n",
              "      <th>day</th>\n",
              "      <th>week</th>\n",
              "      <th>dayofweek</th>\n",
              "      <th>mon_fri</th>\n",
              "    </tr>\n",
              "    <tr>\n",
              "      <th>Date</th>\n",
              "      <th></th>\n",
              "      <th></th>\n",
              "      <th></th>\n",
              "      <th></th>\n",
              "      <th></th>\n",
              "      <th></th>\n",
              "      <th></th>\n",
              "    </tr>\n",
              "  </thead>\n",
              "  <tbody>\n",
              "    <tr>\n",
              "      <th>2013-10-08</th>\n",
              "      <td>155.80</td>\n",
              "      <td>2013</td>\n",
              "      <td>10</td>\n",
              "      <td>8</td>\n",
              "      <td>41</td>\n",
              "      <td>1</td>\n",
              "      <td>0</td>\n",
              "    </tr>\n",
              "    <tr>\n",
              "      <th>2013-10-09</th>\n",
              "      <td>155.55</td>\n",
              "      <td>2013</td>\n",
              "      <td>10</td>\n",
              "      <td>9</td>\n",
              "      <td>41</td>\n",
              "      <td>2</td>\n",
              "      <td>0</td>\n",
              "    </tr>\n",
              "    <tr>\n",
              "      <th>2013-10-10</th>\n",
              "      <td>160.15</td>\n",
              "      <td>2013</td>\n",
              "      <td>10</td>\n",
              "      <td>10</td>\n",
              "      <td>41</td>\n",
              "      <td>3</td>\n",
              "      <td>0</td>\n",
              "    </tr>\n",
              "    <tr>\n",
              "      <th>2013-10-11</th>\n",
              "      <td>160.05</td>\n",
              "      <td>2013</td>\n",
              "      <td>10</td>\n",
              "      <td>11</td>\n",
              "      <td>41</td>\n",
              "      <td>4</td>\n",
              "      <td>1</td>\n",
              "    </tr>\n",
              "    <tr>\n",
              "      <th>2013-10-14</th>\n",
              "      <td>159.45</td>\n",
              "      <td>2013</td>\n",
              "      <td>10</td>\n",
              "      <td>14</td>\n",
              "      <td>42</td>\n",
              "      <td>0</td>\n",
              "      <td>1</td>\n",
              "    </tr>\n",
              "  </tbody>\n",
              "</table>\n",
              "</div>"
            ],
            "text/plain": [
              "             Close  year  month  day  week  dayofweek  mon_fri\n",
              "Date                                                          \n",
              "2013-10-08  155.80  2013     10    8    41          1        0\n",
              "2013-10-09  155.55  2013     10    9    41          2        0\n",
              "2013-10-10  160.15  2013     10   10    41          3        0\n",
              "2013-10-11  160.05  2013     10   11    41          4        1\n",
              "2013-10-14  159.45  2013     10   14    42          0        1"
            ]
          },
          "metadata": {
            "tags": []
          },
          "execution_count": 30
        }
      ]
    },
    {
      "cell_type": "code",
      "metadata": {
        "id": "lmvz_Dqy1fiW"
      },
      "source": [
        "### label and features\n",
        "x=new_data.drop('Close',axis=1)\n",
        "y=new_data['Close']\n",
        "## standardizing the fetures\n",
        "from sklearn.preprocessing import StandardScaler\n",
        "ss=StandardScaler()\n",
        "x=ss.fit_transform(x)"
      ],
      "execution_count": null,
      "outputs": []
    },
    {
      "cell_type": "code",
      "metadata": {
        "id": "Fa_pewVXzbfT"
      },
      "source": [
        "## creating train and test dataset\n",
        "from sklearn.model_selection  import train_test_split\n",
        "x_train,x_test,y_train,y_test=train_test_split(x,y,test_size=0.3,random_state=24)"
      ],
      "execution_count": null,
      "outputs": []
    },
    {
      "cell_type": "code",
      "metadata": {
        "id": "-PN1mGYD4Z4M"
      },
      "source": [
        "### creating our linear model\n",
        "from sklearn.linear_model import LinearRegression\n",
        "model=LinearRegression()\n",
        "model.fit(x_train,y_train)\n",
        "#prediction\n",
        "y_pred=model.predict(x_test)"
      ],
      "execution_count": null,
      "outputs": []
    },
    {
      "cell_type": "code",
      "metadata": {
        "id": "o_mWEvJy5UPv",
        "colab": {
          "base_uri": "https://localhost:8080/"
        },
        "outputId": "7e287a00-39c3-4b41-a2f7-6819e2478131"
      },
      "source": [
        "#### checking the performance of the model\n",
        "from sklearn.metrics import r2_score\n",
        "print('our R^2 is :', r2_score(y_test,y_pred))\n"
      ],
      "execution_count": null,
      "outputs": [
        {
          "output_type": "stream",
          "text": [
            "our R^2 is : 0.356024523816049\n"
          ],
          "name": "stdout"
        }
      ]
    },
    {
      "cell_type": "code",
      "metadata": {
        "id": "uJ5G_inl7d_W",
        "colab": {
          "base_uri": "https://localhost:8080/"
        },
        "outputId": "da951ac5-eaac-496a-bfd2-8e78a1006a7d"
      },
      "source": [
        "## rmse\n",
        "rmse=np.sqrt(np.mean(np.power((np.array(y_test)-np.array(y_pred)),2)))\n",
        "rmse"
      ],
      "execution_count": null,
      "outputs": [
        {
          "output_type": "execute_result",
          "data": {
            "text/plain": [
              "41.942993552286914"
            ]
          },
          "metadata": {
            "tags": []
          },
          "execution_count": 39
        }
      ]
    },
    {
      "cell_type": "markdown",
      "metadata": {
        "id": "-Ua1haFs7vpl"
      },
      "source": [
        "the linear regression has given a smaller rmse than moving averages hence \n",
        "has done a better job.. lets see abut Knn"
      ]
    },
    {
      "cell_type": "markdown",
      "metadata": {
        "id": "Mqrq8sVd6pt4"
      },
      "source": [
        "### 5. K-NN Regression model"
      ]
    },
    {
      "cell_type": "code",
      "metadata": {
        "id": "W9yT2shk7WR4",
        "colab": {
          "base_uri": "https://localhost:8080/"
        },
        "outputId": "5715159c-1aa5-4fbd-a70d-6a8b9b0d13aa"
      },
      "source": [
        "## import libraries\n",
        "from sklearn.neighbors import KNeighborsRegressor\n",
        "from sklearn.model_selection import GridSearchCV\n",
        "## hyperparameter tuning\n",
        "params={'n_neighbors':[2,3,4,5,6,7,8,9]}\n",
        "knn=KNeighborsRegressor()\n",
        "model_knn=GridSearchCV(knn,params,cv=5)\n",
        "##fitting the model\n",
        "model_knn.fit(x_train,y_train)\n",
        "#### predicting\n",
        "y_pred2=model_knn.predict(x_test)\n",
        "##r^2 metrics\n",
        "print('our R^2:' ,r2_score(y_test,y_pred2))\n",
        "##rmse\n",
        "rmse=np.sqrt(np.mean(np.power((np.array(y_test)-np.array(y_pred2)),2)))\n",
        "print('rmse:',rmse)"
      ],
      "execution_count": null,
      "outputs": [
        {
          "output_type": "stream",
          "text": [
            "our R^2: 0.7541147574181017\n",
            "rmse: 25.91737373112095\n"
          ],
          "name": "stdout"
        }
      ]
    },
    {
      "cell_type": "markdown",
      "metadata": {
        "id": "1vzVrLUKAp1b"
      },
      "source": [
        "The R^2 has increased hence better than linear regression and the rmse is smaller hence its a better model to predict."
      ]
    },
    {
      "cell_type": "markdown",
      "metadata": {
        "id": "G_kUPxwgBdcq"
      },
      "source": [
        "### 6. light GBM regressor"
      ]
    },
    {
      "cell_type": "code",
      "metadata": {
        "id": "bMdDwsQ2EjTh",
        "colab": {
          "base_uri": "https://localhost:8080/"
        },
        "outputId": "defce1dc-1082-4b23-ce88-bba1d0755b3b"
      },
      "source": [
        "### import\n",
        "from lightgbm import LGBMRegressor \n",
        "lgbm=LGBMRegressor(max_depth=1,n_estimators=500)\n",
        "lgbm.fit(x_train,y_train)\n",
        "y_pred3=lgbm.predict(x_test)\n",
        "#### metrics\n",
        "print('r^2 score;',r2_score(y_test,y_pred3))\n",
        "rmse=np.sqrt(np.mean(np.power((np.array(y_test)-np.array(y_pred3)),2)))\n",
        "print('rmse', rmse)"
      ],
      "execution_count": null,
      "outputs": [
        {
          "output_type": "stream",
          "text": [
            "r^2 score; 0.7865204750860576\n",
            "rmse 24.149206936766348\n"
          ],
          "name": "stdout"
        }
      ]
    },
    {
      "cell_type": "markdown",
      "metadata": {
        "id": "iUQXkGPjSC-l"
      },
      "source": [
        "The r^2 is 0.7865 and the rmse has reduced hence the model has performed better than the three."
      ]
    },
    {
      "cell_type": "markdown",
      "metadata": {
        "id": "HzC8-mc-SQQb"
      },
      "source": [
        "### 7. Recommendation."
      ]
    },
    {
      "cell_type": "markdown",
      "metadata": {
        "id": "ArEoxoe7S9SY"
      },
      "source": [
        "The Light GBM has  performed very well compared to the other models \n",
        "used above, followed closely by KNN, I would recommend them for financial time series modelling.\n",
        "\n",
        "We can improve the modelling by feature engineering and including more features and filtering when the trading did not happen.\n",
        "In this one we can use  fast.Ai to engineer new features.\n",
        "\n",
        "Ideas in future we can try:\n",
        "\n",
        "\n",
        "\n",
        "1.   More features in LightGBM.\n",
        "2.   Known algorithms like ARIMA.\n",
        "1.  PROPHET model\n",
        "2.   Neural networks i.e MLP regressor.\n",
        "4. Long short term memory using Keras\n",
        "\n",
        "Some of the above models can reduce the RMSE and increase the R^2 even better than our models.\n",
        "\n",
        "\n",
        "\n",
        "\n",
        "\n",
        "\n"
      ]
    }
  ]
}